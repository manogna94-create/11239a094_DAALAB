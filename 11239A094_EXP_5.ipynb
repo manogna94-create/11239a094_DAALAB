{
  "nbformat": 4,
  "nbformat_minor": 0,
  "metadata": {
    "colab": {
      "provenance": [],
      "authorship_tag": "ABX9TyOL09T2wHqZBmJ8MWepl9fb",
      "include_colab_link": true
    },
    "kernelspec": {
      "name": "python3",
      "display_name": "Python 3"
    },
    "language_info": {
      "name": "python"
    }
  },
  "cells": [
    {
      "cell_type": "markdown",
      "metadata": {
        "id": "view-in-github",
        "colab_type": "text"
      },
      "source": [
        "<a href=\"https://colab.research.google.com/github/manogna94-create/11239a094_DAALAB/blob/main/11239A094_EXP_5.ipynb\" target=\"_parent\"><img src=\"https://colab.research.google.com/assets/colab-badge.svg\" alt=\"Open In Colab\"/></a>"
      ]
    },
    {
      "cell_type": "code",
      "execution_count": 1,
      "metadata": {
        "colab": {
          "base_uri": "https://localhost:8080/"
        },
        "id": "P1zo1E3lsazb",
        "outputId": "c84ad8c4-c7dc-47cc-9bff-cedcec638ed9"
      },
      "outputs": [
        {
          "output_type": "stream",
          "name": "stdout",
          "text": [
            "Minimum TSP tour cost: 80\n",
            "Shortest path: 0 -> 1 -> 3 -> 2 -> 0\n"
          ]
        }
      ],
      "source": [
        "import sys\n",
        "from functools import lru_cache\n",
        "\n",
        "def tsp_with_path(cost_matrix):\n",
        "    n = len(cost_matrix)\n",
        "\n",
        "    @lru_cache(None)\n",
        "    def dp(mask, pos):\n",
        "        if mask == (1 << n) - 1:\n",
        "            return cost_matrix[pos][0], [0]  # return to start\n",
        "\n",
        "        min_cost = sys.maxsize\n",
        "        best_path = []\n",
        "\n",
        "        for city in range(n):\n",
        "            if not (mask & (1 << city)):\n",
        "                cost, path = dp(mask | (1 << city), city)\n",
        "                total_cost = cost_matrix[pos][city] + cost\n",
        "                if total_cost < min_cost:\n",
        "                    min_cost = total_cost\n",
        "                    best_path = [city] + path\n",
        "\n",
        "        return min_cost, best_path\n",
        "\n",
        "    total_cost, path = dp(1, 0)\n",
        "    full_path = [0] + path  # starting from city 0\n",
        "\n",
        "    return total_cost, full_path\n",
        "\n",
        "# Example cost matrix\n",
        "cost = [\n",
        "    [0, 10, 15, 20],\n",
        "    [10, 0, 35, 25],\n",
        "    [15, 35, 0, 30],\n",
        "    [20, 25, 30, 0]\n",
        "]\n",
        "\n",
        "cost_result, path_result = tsp_with_path(cost)\n",
        "\n",
        "print(f\"Minimum TSP tour cost: {cost_result}\")\n",
        "print(f\"Shortest path: {' -> '.join(map(str, path_result))}\")\n"
      ]
    }
  ]
}