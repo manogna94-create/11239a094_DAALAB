{
  "nbformat": 4,
  "nbformat_minor": 0,
  "metadata": {
    "colab": {
      "provenance": [],
      "authorship_tag": "ABX9TyMWE7o63sWWaoBgpknyPwT9",
      "include_colab_link": true
    },
    "kernelspec": {
      "name": "python3",
      "display_name": "Python 3"
    },
    "language_info": {
      "name": "python"
    }
  },
  "cells": [
    {
      "cell_type": "markdown",
      "metadata": {
        "id": "view-in-github",
        "colab_type": "text"
      },
      "source": [
        "<a href=\"https://colab.research.google.com/github/manogna94-create/11239a094_DAALAB/blob/main/11239A094_EXP_7B.ipynb\" target=\"_parent\"><img src=\"https://colab.research.google.com/assets/colab-badge.svg\" alt=\"Open In Colab\"/></a>"
      ]
    },
    {
      "cell_type": "code",
      "execution_count": 1,
      "metadata": {
        "colab": {
          "base_uri": "https://localhost:8080/"
        },
        "id": "ly_EARFMu5_V",
        "outputId": "f32c3606-44ec-4737-bf6e-c116335a4712"
      },
      "outputs": [
        {
          "output_type": "stream",
          "name": "stdout",
          "text": [
            "Minimum Spanning Tree Cost: 22\n",
            "Edges in the Minimum Spanning Tree:\n",
            "3 - 5 with weight 2\n",
            "4 - 5 with weight 3\n",
            "1 - 5 with weight 4\n",
            "0 - 5 with weight 5\n",
            "1 - 2 with weight 8\n"
          ]
        }
      ],
      "source": [
        "class DisjointSet:\n",
        "    def __init__(self, n):\n",
        "        self.parent = list(range(n))\n",
        "        self.rank = [0] * n\n",
        "\n",
        "    def find(self, x):\n",
        "        if self.parent[x] != x:\n",
        "            self.parent[x] = self.find(self.parent[x])  # Path compression\n",
        "        return self.parent[x]\n",
        "\n",
        "    def union(self, x, y):\n",
        "        rootX = self.find(x)\n",
        "        rootY = self.find(y)\n",
        "\n",
        "        if rootX != rootY:\n",
        "            # Union by rank\n",
        "            if self.rank[rootX] > self.rank[rootY]:\n",
        "                self.parent[rootY] = rootX\n",
        "            elif self.rank[rootX] < self.rank[rootY]:\n",
        "                self.parent[rootX] = rootY\n",
        "            else:\n",
        "                self.parent[rootY] = rootX\n",
        "                self.rank[rootX] += 1\n",
        "            return True\n",
        "        return False\n",
        "\n",
        "def kruskal(n, edges):\n",
        "    # Sort edges by weight\n",
        "    edges.sort(key=lambda edge: edge[2])  # Sorting by weight (index 2)\n",
        "\n",
        "    mst = []\n",
        "    mst_cost = 0\n",
        "    ds = DisjointSet(n)\n",
        "\n",
        "    for u, v, weight in edges:\n",
        "        if ds.union(u, v):  # If no cycle is formed\n",
        "            mst.append((u, v, weight))\n",
        "            mst_cost += weight\n",
        "\n",
        "    return mst, mst_cost\n",
        "\n",
        "# Example graph as an edge list: (u, v, weight)\n",
        "edges = [\n",
        "    (0, 1, 7),\n",
        "    (0, 5, 5),\n",
        "    (1, 2, 8),\n",
        "    (1, 5, 4),\n",
        "    (2, 3, 9),\n",
        "    (3, 5, 2),\n",
        "    (3, 4, 10),\n",
        "    (4, 5, 3)\n",
        "]\n",
        "\n",
        "n = 6  # Number of nodes\n",
        "\n",
        "# Running Kruskal's algorithm\n",
        "mst_edges, mst_cost = kruskal(n, edges)\n",
        "\n",
        "# Printing the result\n",
        "print(f\"Minimum Spanning Tree Cost: {mst_cost}\")\n",
        "print(\"Edges in the Minimum Spanning Tree:\")\n",
        "for u, v, weight in mst_edges:\n",
        "    print(f\"{u} - {v} with weight {weight}\")\n"
      ]
    }
  ]
}