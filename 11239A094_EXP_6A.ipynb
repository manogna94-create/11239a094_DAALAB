{
  "nbformat": 4,
  "nbformat_minor": 0,
  "metadata": {
    "colab": {
      "provenance": [],
      "authorship_tag": "ABX9TyNhT+9+GH4NVqIJNi5Zf+Tw",
      "include_colab_link": true
    },
    "kernelspec": {
      "name": "python3",
      "display_name": "Python 3"
    },
    "language_info": {
      "name": "python"
    }
  },
  "cells": [
    {
      "cell_type": "markdown",
      "metadata": {
        "id": "view-in-github",
        "colab_type": "text"
      },
      "source": [
        "<a href=\"https://colab.research.google.com/github/manogna94-create/11239a094_DAALAB/blob/main/11239A094_EXP_6A.ipynb\" target=\"_parent\"><img src=\"https://colab.research.google.com/assets/colab-badge.svg\" alt=\"Open In Colab\"/></a>"
      ]
    },
    {
      "cell_type": "code",
      "execution_count": 1,
      "metadata": {
        "colab": {
          "base_uri": "https://localhost:8080/"
        },
        "id": "H_zk-1kBtFkB",
        "outputId": "d19f36d1-9005-44b5-9c91-6cfb4014738d"
      },
      "outputs": [
        {
          "output_type": "stream",
          "name": "stdout",
          "text": [
            "Shortest distance from node 0 to node 4: 26\n",
            "Shortest path: 0 -> 2 -> 3 -> 4\n"
          ]
        }
      ],
      "source": [
        "import heapq\n",
        "\n",
        "def dijkstra(graph, start):\n",
        "    n = len(graph)\n",
        "    dist = [float('inf')] * n  # distance to each node, initialized to infinity\n",
        "    dist[start] = 0  # distance to the source is 0\n",
        "    prev = [-1] * n  # to keep track of the shortest path\n",
        "    min_heap = [(0, start)]  # (distance, node)\n",
        "\n",
        "    while min_heap:\n",
        "        current_dist, u = heapq.heappop(min_heap)\n",
        "\n",
        "        if current_dist > dist[u]:\n",
        "            continue\n",
        "\n",
        "        for v, weight in enumerate(graph[u]):\n",
        "            if weight > 0:  # there's an edge between u and v\n",
        "                new_dist = current_dist + weight\n",
        "                if new_dist < dist[v]:\n",
        "                    dist[v] = new_dist\n",
        "                    prev[v] = u\n",
        "                    heapq.heappush(min_heap, (new_dist, v))\n",
        "\n",
        "    return dist, prev\n",
        "\n",
        "def reconstruct_path(prev, start, end):\n",
        "    path = []\n",
        "    current = end\n",
        "    while current != start:\n",
        "        path.insert(0, current)\n",
        "        current = prev[current]\n",
        "    path.insert(0, start)\n",
        "    return path\n",
        "\n",
        "# Example graph as an adjacency matrix\n",
        "graph = [\n",
        "    [0, 7, 9, 0, 0, 0],\n",
        "    [7, 0, 10, 15, 0, 0],\n",
        "    [9, 10, 0, 11, 0, 0],\n",
        "    [0, 15, 11, 0, 6, 0],\n",
        "    [0, 0, 0, 6, 0, 9],\n",
        "    [0, 0, 0, 0, 9, 0]\n",
        "]\n",
        "\n",
        "start = 0  # Starting node (0th node)\n",
        "end = 4    # Target node (4th node)\n",
        "\n",
        "# Run Dijkstra's algorithm\n",
        "dist, prev = dijkstra(graph, start)\n",
        "\n",
        "# Reconstruct the shortest path from start to end\n",
        "path = reconstruct_path(prev, start, end)\n",
        "\n",
        "print(f\"Shortest distance from node {start} to node {end}: {dist[end]}\")\n",
        "print(f\"Shortest path: {' -> '.join(map(str, path))}\")\n"
      ]
    }
  ]
}