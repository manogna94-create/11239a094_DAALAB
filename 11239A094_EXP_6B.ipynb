{
  "nbformat": 4,
  "nbformat_minor": 0,
  "metadata": {
    "colab": {
      "provenance": [],
      "authorship_tag": "ABX9TyNu9x3FhEUTk6nQ6WuH/ECW",
      "include_colab_link": true
    },
    "kernelspec": {
      "name": "python3",
      "display_name": "Python 3"
    },
    "language_info": {
      "name": "python"
    }
  },
  "cells": [
    {
      "cell_type": "markdown",
      "metadata": {
        "id": "view-in-github",
        "colab_type": "text"
      },
      "source": [
        "<a href=\"https://colab.research.google.com/github/manogna94-create/11239a094_DAALAB/blob/main/11239A094_EXP_6B.ipynb\" target=\"_parent\"><img src=\"https://colab.research.google.com/assets/colab-badge.svg\" alt=\"Open In Colab\"/></a>"
      ]
    },
    {
      "cell_type": "code",
      "execution_count": 1,
      "metadata": {
        "colab": {
          "base_uri": "https://localhost:8080/"
        },
        "id": "wDp_XC1GtsLx",
        "outputId": "b2a8adfa-4484-419d-ed57-321e22a1d83b"
      },
      "outputs": [
        {
          "output_type": "stream",
          "name": "stdout",
          "text": [
            "Shortest Path Distance Matrix:\n",
            "[0, 3, 5, 7, 8, 5]\n",
            "[3, 0, 2, 6, 7, 4]\n",
            "[5, 2, 0, 7, 8, 6]\n",
            "[7, 6, 7, 0, 1, 2]\n",
            "[8, 7, 8, 1, 0, 3]\n",
            "[5, 4, 6, 2, 3, 0]\n"
          ]
        }
      ],
      "source": [
        "def floyd_warshall(graph):\n",
        "    n = len(graph)\n",
        "    dist = [row[:] for row in graph]  # Copy the graph to distance matrix\n",
        "\n",
        "    # Floyd-Warshall algorithm\n",
        "    for k in range(n):\n",
        "        for i in range(n):\n",
        "            for j in range(n):\n",
        "                if dist[i][j] > dist[i][k] + dist[k][j]:\n",
        "                    dist[i][j] = dist[i][k] + dist[k][j]\n",
        "\n",
        "    return dist\n",
        "\n",
        "# Example graph as an adjacency matrix (inf represents no direct path)\n",
        "graph = [\n",
        "    [0, 3, float('inf'), float('inf'), float('inf'), 5],\n",
        "    [3, 0, 2, float('inf'), float('inf'), 4],\n",
        "    [float('inf'), 2, 0, 7, float('inf'), float('inf')],\n",
        "    [float('inf'), float('inf'), 7, 0, 1, 2],\n",
        "    [float('inf'), float('inf'), float('inf'), 1, 0, 3],\n",
        "    [5, 4, float('inf'), 2, 3, 0]\n",
        "]\n",
        "\n",
        "# Running the Floyd-Warshall algorithm\n",
        "shortest_paths = floyd_warshall(graph)\n",
        "\n",
        "# Printing the shortest path distance matrix\n",
        "print(\"Shortest Path Distance Matrix:\")\n",
        "for row in shortest_paths:\n",
        "    print(row)\n"
      ]
    }
  ]
}