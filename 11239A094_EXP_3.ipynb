{
  "nbformat": 4,
  "nbformat_minor": 0,
  "metadata": {
    "colab": {
      "provenance": [],
      "authorship_tag": "ABX9TyMAb4HYNPFagvXdA+5C+DVZ",
      "include_colab_link": true
    },
    "kernelspec": {
      "name": "python3",
      "display_name": "Python 3"
    },
    "language_info": {
      "name": "python"
    }
  },
  "cells": [
    {
      "cell_type": "markdown",
      "metadata": {
        "id": "view-in-github",
        "colab_type": "text"
      },
      "source": [
        "<a href=\"https://colab.research.google.com/github/manogna94-create/11239a094_DAALAB/blob/main/11239A094_EXP_3.ipynb\" target=\"_parent\"><img src=\"https://colab.research.google.com/assets/colab-badge.svg\" alt=\"Open In Colab\"/></a>"
      ]
    },
    {
      "cell_type": "code",
      "execution_count": 1,
      "metadata": {
        "colab": {
          "base_uri": "https://localhost:8080/"
        },
        "id": "MTxaKaPNqgJp",
        "outputId": "f176271e-c165-4620-ac1c-9dbae54edc56"
      },
      "outputs": [
        {
          "output_type": "stream",
          "name": "stdout",
          "text": [
            "First Fit: 2\n",
            "Best Fit: 2\n",
            "First Fit Decreasing: 2\n"
          ]
        }
      ],
      "source": [
        "def first_fit(items, cap):\n",
        "    bins = []\n",
        "    for item in items:\n",
        "        for i in range(len(bins)):\n",
        "            if bins[i] + item <= cap:\n",
        "                bins[i] += item\n",
        "                break\n",
        "        else:\n",
        "            bins.append(item)\n",
        "    return len(bins)\n",
        "\n",
        "def best_fit(items, cap):\n",
        "    bins = []\n",
        "    for item in items:\n",
        "        best = -1\n",
        "        space = cap + 1\n",
        "        for i in range(len(bins)):\n",
        "            if bins[i] + item <= cap and cap - (bins[i] + item) < space:\n",
        "                best = i\n",
        "                space = cap - (bins[i] + item)\n",
        "        if best != -1:\n",
        "            bins[best] += item\n",
        "        else:\n",
        "            bins.append(item)\n",
        "    return len(bins)\n",
        "\n",
        "def first_fit_decreasing(items, cap):\n",
        "    return first_fit(sorted(items, reverse=True), cap)\n",
        "\n",
        "# Example usage\n",
        "items = [4, 8, 1, 4, 2, 1]\n",
        "cap = 10\n",
        "\n",
        "print(\"First Fit:\", first_fit(items, cap))\n",
        "print(\"Best Fit:\", best_fit(items, cap))\n",
        "print(\"First Fit Decreasing:\", first_fit_decreasing(items, cap))\n"
      ]
    }
  ]
}