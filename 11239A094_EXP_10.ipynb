{
  "nbformat": 4,
  "nbformat_minor": 0,
  "metadata": {
    "colab": {
      "provenance": [],
      "authorship_tag": "ABX9TyP3jJx3MVMVx4bHpx3Fkeg/",
      "include_colab_link": true
    },
    "kernelspec": {
      "name": "python3",
      "display_name": "Python 3"
    },
    "language_info": {
      "name": "python"
    }
  },
  "cells": [
    {
      "cell_type": "markdown",
      "metadata": {
        "id": "view-in-github",
        "colab_type": "text"
      },
      "source": [
        "<a href=\"https://colab.research.google.com/github/manogna94-create/11239a094_DAALAB/blob/main/11239A094_EXP_10.ipynb\" target=\"_parent\"><img src=\"https://colab.research.google.com/assets/colab-badge.svg\" alt=\"Open In Colab\"/></a>"
      ]
    },
    {
      "cell_type": "code",
      "execution_count": 1,
      "metadata": {
        "colab": {
          "base_uri": "https://localhost:8080/"
        },
        "id": "Cd-qqC2h19n8",
        "outputId": "52609a1d-561d-44bf-93f0-5711f6fe48d1"
      },
      "outputs": [
        {
          "output_type": "stream",
          "name": "stdout",
          "text": [
            "Original Array: [10, 7, 8, 9, 1, 5]\n",
            "Sorted Array:   [1, 5, 7, 8, 9, 10]\n"
          ]
        }
      ],
      "source": [
        "import random\n",
        "\n",
        "def randomized_partition(arr, low, high):\n",
        "    pivot_index = random.randint(low, high)\n",
        "    arr[pivot_index], arr[high] = arr[high], arr[pivot_index]  # swap with end\n",
        "    pivot = arr[high]\n",
        "    i = low - 1\n",
        "\n",
        "    for j in range(low, high):\n",
        "        if arr[j] <= pivot:\n",
        "            i += 1\n",
        "            arr[i], arr[j] = arr[j], arr[i]\n",
        "\n",
        "    arr[i+1], arr[high] = arr[high], arr[i+1]\n",
        "    return i + 1\n",
        "\n",
        "def randomized_quick_sort(arr, low, high):\n",
        "    if low < high:\n",
        "        pi = randomized_partition(arr, low, high)\n",
        "        randomized_quick_sort(arr, low, pi - 1)\n",
        "        randomized_quick_sort(arr, pi + 1, high)\n",
        "\n",
        "# Input array\n",
        "original_array = [10, 7, 8, 9, 1, 5]\n",
        "arr = original_array[:]  # Copy to preserve original\n",
        "\n",
        "# Apply randomized quicksort\n",
        "randomized_quick_sort(arr, 0, len(arr) - 1)\n",
        "\n",
        "# Output\n",
        "print(\"Original Array:\", original_array)\n",
        "print(\"Sorted Array:  \", arr)\n"
      ]
    }
  ]
}