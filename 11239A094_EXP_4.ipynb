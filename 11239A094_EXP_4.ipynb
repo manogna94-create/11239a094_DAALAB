{
  "nbformat": 4,
  "nbformat_minor": 0,
  "metadata": {
    "colab": {
      "provenance": [],
      "authorship_tag": "ABX9TyMYnkWw6Uu/MfcAQdVAsmD8",
      "include_colab_link": true
    },
    "kernelspec": {
      "name": "python3",
      "display_name": "Python 3"
    },
    "language_info": {
      "name": "python"
    }
  },
  "cells": [
    {
      "cell_type": "markdown",
      "metadata": {
        "id": "view-in-github",
        "colab_type": "text"
      },
      "source": [
        "<a href=\"https://colab.research.google.com/github/manogna94-create/11239a094_DAALAB/blob/main/11239A094_EXP_4.ipynb\" target=\"_parent\"><img src=\"https://colab.research.google.com/assets/colab-badge.svg\" alt=\"Open In Colab\"/></a>"
      ]
    },
    {
      "cell_type": "code",
      "execution_count": 2,
      "metadata": {
        "colab": {
          "base_uri": "https://localhost:8080/"
        },
        "id": "elVZ4hmmrbrt",
        "outputId": "c1c3f01e-55de-42d1-bf89-79cebe56a60a"
      },
      "outputs": [
        {
          "output_type": "stream",
          "name": "stdout",
          "text": [
            "\n",
            "Max value: 240.0\n",
            "Items taken (value, weight, portion):\n",
            "Value: 60, Weight: 10, Portion: 1.0\n",
            "Value: 100, Weight: 20, Portion: 1.0\n",
            "Value: 120, Weight: 30, Portion: 0.67\n"
          ]
        }
      ],
      "source": [
        "def fractional_knapsack(cap, wt, val):\n",
        "    items = sorted(zip(val, wt), key=lambda x: x[0]/x[1], reverse=True)\n",
        "    total, taken = 0, []\n",
        "\n",
        "    for v, w in items:\n",
        "        if cap == 0:\n",
        "            break\n",
        "        take = min(w, cap)\n",
        "        portion = take / w\n",
        "        total += v * portion\n",
        "        cap -= take\n",
        "        taken.append((v, w, round(portion, 2)))\n",
        "\n",
        "    print(f\"\\nMax value: {round(total, 2)}\")\n",
        "    print(\"Items taken (value, weight, portion):\")\n",
        "    for v, w, p in taken:\n",
        "        print(f\"Value: {v}, Weight: {w}, Portion: {p}\")\n",
        "\n",
        "# Example\n",
        "fractional_knapsack(50, [10, 20, 30], [60, 100, 120])\n"
      ]
    }
  ]
}