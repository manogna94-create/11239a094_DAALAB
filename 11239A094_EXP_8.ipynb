{
  "nbformat": 4,
  "nbformat_minor": 0,
  "metadata": {
    "colab": {
      "provenance": [],
      "authorship_tag": "ABX9TyMfZPlAeHkrmSkhAP8l+V+U",
      "include_colab_link": true
    },
    "kernelspec": {
      "name": "python3",
      "display_name": "Python 3"
    },
    "language_info": {
      "name": "python"
    }
  },
  "cells": [
    {
      "cell_type": "markdown",
      "metadata": {
        "id": "view-in-github",
        "colab_type": "text"
      },
      "source": [
        "<a href=\"https://colab.research.google.com/github/manogna94-create/11239a094_DAALAB/blob/main/11239A094_EXP_8.ipynb\" target=\"_parent\"><img src=\"https://colab.research.google.com/assets/colab-badge.svg\" alt=\"Open In Colab\"/></a>"
      ]
    },
    {
      "cell_type": "code",
      "execution_count": null,
      "metadata": {
        "id": "wSxK7KNjvew4"
      },
      "outputs": [],
      "source": [
        "from collections import deque\n",
        "\n",
        "# Function to perform BFS and find an augmenting path\n",
        "def bfs(capacity, source, sink, parent):\n",
        "    visited = [False] * len(capacity)\n",
        "    queue = deque([source])\n",
        "    visited[source] = True\n",
        "\n",
        "    while queue:\n",
        "        u = queue.popleft()\n",
        "\n",
        "        for v in range(len(capacity)):\n",
        "            if not visited[v] and capacity[u][v] > 0:  # If there's remaining capacity\n",
        "                queue.append(v)\n",
        "                visited[v] = True\n",
        "                parent[v] = u  # Track the path\n",
        "                if v == sink:\n",
        "                    return True\n",
        "    return False\n",
        "\n",
        "# Function to trace the augmenting path\n",
        "def print_augmenting_path(parent, sink):\n",
        "    path = []\n",
        "    s = sink\n",
        "    while parent[s] != -1:\n",
        "        path.append(s)\n",
        "        s = parent[s]\n",
        "    path.append(s)\n",
        "    return path[::-1]  # Return the path in correct order\n",
        "\n",
        "# Ford-Fulkerson algorithm using BFS (Edmonds-Karp)\n",
        "def ford_fulkerson(capacity, source, sink):\n",
        "    n = len(capacity)\n",
        "    parent = [-1] * n  # Array to store the path\n",
        "    max_flow = 0\n",
        "\n",
        "    # Create a residual capacity matrix\n",
        "    residual_capacity = [row[:] for row in capacity]\n",
        "\n",
        "    # Augment the flow while there is an augmenting path\n",
        "    while bfs(residual_capacity, source, sink, parent):\n",
        "        # Find the maximum flow in the path found by BFS\n",
        "        path_flow = float('Inf')\n",
        "        augmenting_path = print_augmenting_path(parent, sink)\n",
        "\n",
        "        # Find the bottleneck capacity\n",
        "        s = sink\n",
        "        while s != source:\n",
        "            path_flow = min(path_flow, residual_capacity[parent[s]][s])\n",
        "            s = parent[s]\n",
        "\n",
        "        # Print the augmenting path and the flow pushed\n",
        "        print(f\"Augmenting Path: {augmenting_path} with Flow: {path_flow}\")\n",
        "\n",
        "        # Update residual capacities of the edges and reverse edges along the path\n",
        "        v = sink\n",
        "        while v != source:\n",
        "            u = parent[v]\n",
        "            residual_capacity[u][v] -= path_flow\n",
        "            residual_capacity[v][u] += path_flow\n",
        "            v = parent[v]\n",
        "\n",
        "        max_flow += path_flow\n",
        "\n",
        "    return max_flow\n",
        "\n",
        "# Example graph as an adjacency matrix (capacity matrix)\n",
        "capacity = [\n",
        "    [0, 16, 13, 0, 0, 0],\n",
        "    [0, 0, 10, 12, 0, 0],\n",
        "    [0, 4, 0, 0, 14, 0],\n",
        "    [0, 0, 9, 0, 0, 20],\n",
        "    [0, 0, 0, 7, 0, 4],\n",
        "    [0, 0, 0, 0, 0, 0]\n",
        "]\n",
        "\n",
        "source = 0  # Source node\n",
        "sink = 5    # Sink node\n",
        "\n",
        "# Running the Ford-Fulkerson algorithm to find maximum flow\n",
        "max_flow = ford_fulkerson(capacity, source, sink)\n",
        "\n",
        "# Printing the final result\n",
        "print(f\"\\nMaximum Flow from node {source} to node {sink}: {max_flow}\")\n"
      ]
    }
  ]
}