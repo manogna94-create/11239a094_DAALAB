{
  "nbformat": 4,
  "nbformat_minor": 0,
  "metadata": {
    "colab": {
      "provenance": [],
      "authorship_tag": "ABX9TyM/iXqCbvlRHEDOfBjp07fr",
      "include_colab_link": true
    },
    "kernelspec": {
      "name": "python3",
      "display_name": "Python 3"
    },
    "language_info": {
      "name": "python"
    }
  },
  "cells": [
    {
      "cell_type": "markdown",
      "metadata": {
        "id": "view-in-github",
        "colab_type": "text"
      },
      "source": [
        "<a href=\"https://colab.research.google.com/github/manogna94-create/11239a094_DAALAB/blob/main/11239A094_EXP_7A.ipynb\" target=\"_parent\"><img src=\"https://colab.research.google.com/assets/colab-badge.svg\" alt=\"Open In Colab\"/></a>"
      ]
    },
    {
      "cell_type": "code",
      "execution_count": 1,
      "metadata": {
        "colab": {
          "base_uri": "https://localhost:8080/"
        },
        "id": "Ux4EnVHluTUx",
        "outputId": "5acc3b8b-186b-42b7-950a-216adc44c5b8"
      },
      "outputs": [
        {
          "output_type": "stream",
          "name": "stdout",
          "text": [
            "Minimum Spanning Tree Cost: 22\n",
            "Edges in the Minimum Spanning Tree:\n",
            "0 - 5 with weight 5\n",
            "5 - 3 with weight 2\n",
            "3 - 4 with weight 3\n",
            "5 - 1 with weight 4\n",
            "1 - 2 with weight 8\n"
          ]
        }
      ],
      "source": [
        "import heapq\n",
        "\n",
        "def prim(graph):\n",
        "    n = len(graph)\n",
        "    # Initialize the MST result and visited set\n",
        "    mst_cost = 0\n",
        "    mst_edges = []\n",
        "    visited = [False] * n\n",
        "\n",
        "    # Min-heap to store the edges: (weight, node)\n",
        "    min_heap = [(0, 0)]  # Start with node 0 and weight 0\n",
        "\n",
        "    while min_heap:\n",
        "        weight, u = heapq.heappop(min_heap)  # Get the node with the smallest edge\n",
        "        if visited[u]:\n",
        "            continue\n",
        "\n",
        "        # Mark the node as visited\n",
        "        visited[u] = True\n",
        "        mst_cost += weight\n",
        "\n",
        "        # Add the edge to the MST result\n",
        "        if weight != 0:\n",
        "            mst_edges.append((prev_node[u], u, weight))  # (from, to, weight)\n",
        "\n",
        "        # Add all edges from the current node to the heap\n",
        "        for v, edge_weight in enumerate(graph[u]):\n",
        "            if not visited[v] and edge_weight != float('inf'):\n",
        "                heapq.heappush(min_heap, (edge_weight, v))\n",
        "                prev_node[v] = u  # Store the previous node\n",
        "\n",
        "    return mst_cost, mst_edges\n",
        "\n",
        "# Example graph as an adjacency matrix\n",
        "graph = [\n",
        "    [0, 7, float('inf'), float('inf'), float('inf'), 5],\n",
        "    [7, 0, 8, float('inf'), float('inf'), 4],\n",
        "    [float('inf'), 8, 0, 9, float('inf'), float('inf')],\n",
        "    [float('inf'), float('inf'), 9, 0, 10, 2],\n",
        "    [float('inf'), float('inf'), float('inf'), 10, 0, 3],\n",
        "    [5, 4, float('inf'), 2, 3, 0]\n",
        "]\n",
        "\n",
        "# Running Prim's algorithm\n",
        "prev_node = [-1] * len(graph)  # To keep track of previous node\n",
        "mst_cost, mst_edges = prim(graph)\n",
        "\n",
        "# Printing the result\n",
        "print(f\"Minimum Spanning Tree Cost: {mst_cost}\")\n",
        "print(\"Edges in the Minimum Spanning Tree:\")\n",
        "for u, v, w in mst_edges:\n",
        "    print(f\"{u} - {v} with weight {w}\")\n"
      ]
    }
  ]
}