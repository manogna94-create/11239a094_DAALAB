{
  "nbformat": 4,
  "nbformat_minor": 0,
  "metadata": {
    "colab": {
      "provenance": [],
      "authorship_tag": "ABX9TyMIIE5pzUWyagPJgLiZyV9f",
      "include_colab_link": true
    },
    "kernelspec": {
      "name": "python3",
      "display_name": "Python 3"
    },
    "language_info": {
      "name": "python"
    }
  },
  "cells": [
    {
      "cell_type": "markdown",
      "metadata": {
        "id": "view-in-github",
        "colab_type": "text"
      },
      "source": [
        "<a href=\"https://colab.research.google.com/github/manogna94-create/11239a094_DAALAB/blob/main/11239A094_EXP_9.ipynb\" target=\"_parent\"><img src=\"https://colab.research.google.com/assets/colab-badge.svg\" alt=\"Open In Colab\"/></a>"
      ]
    },
    {
      "cell_type": "code",
      "execution_count": 1,
      "metadata": {
        "colab": {
          "base_uri": "https://localhost:8080/"
        },
        "id": "38oA7UkC03Kb",
        "outputId": "28ca52f8-b0a1-4c95-bb0a-377a2463b01c"
      },
      "outputs": [
        {
          "output_type": "stream",
          "name": "stdout",
          "text": [
            "Approximate Vertex Cover: {0, 1, 2, 3}\n",
            "Size of Cover: 4\n"
          ]
        }
      ],
      "source": [
        "def approximate_vertex_cover(edges):\n",
        "    cover = set()\n",
        "    used = set()\n",
        "\n",
        "    for u, v in edges:\n",
        "        if u not in used and v not in used:\n",
        "            cover.add(u)\n",
        "            cover.add(v)\n",
        "            used.add(u)\n",
        "            used.add(v)\n",
        "\n",
        "    return cover\n",
        "\n",
        "# Example graph edges\n",
        "edges = [(0, 1), (1, 2), (2, 3), (3, 4), (4, 0)]\n",
        "\n",
        "cover = approximate_vertex_cover(edges)\n",
        "\n",
        "print(\"Approximate Vertex Cover:\", cover)\n",
        "print(\"Size of Cover:\", len(cover))\n"
      ]
    }
  ]
}